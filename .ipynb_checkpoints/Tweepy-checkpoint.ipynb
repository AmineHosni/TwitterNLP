{
 "cells": [
  {
   "cell_type": "code",
   "execution_count": 2,
   "metadata": {},
   "outputs": [],
   "source": [
    "import tweepy"
   ]
  },
  {
   "cell_type": "code",
   "execution_count": 3,
   "metadata": {},
   "outputs": [],
   "source": [
    "consumer_key = 'VvqQnLwk7b9sR8QORpry74l6w'\n",
    "consumer_secret = 'oWGNMmvVeA2PudsLFeb9tonRhEMUNW9wSW8d2tIcRLqxWaiueY'\n",
    "access_token ='3066031444-3nhSgiI4XHejFiXonF4sIcWNYxFxaFdwdnGAnJy'\n",
    "access_token_secret = '2siu8tBaxEajtCH7HzUau57IkO67wnXnLR23UH47nkhxL'"
   ]
  },
  {
   "cell_type": "code",
   "execution_count": 19,
   "metadata": {},
   "outputs": [],
   "source": [
    "auth = tweepy.OAuthHandler(consumer_key, consumer_secret)\n",
    "auth.set_access_token(access_token, access_token_secret)\n",
    "\n",
    "api = tweepy.API(auth)"
   ]
  },
  {
   "cell_type": "code",
   "execution_count": 21,
   "metadata": {
    "scrolled": true
   },
   "outputs": [
    {
     "name": "stdout",
     "output_type": "stream",
     "text": [
      "Donald Tusk voit «une place spéciale en enfer» pour les promoteurs du Brexit https://t.co/VcWZ4f0rIn https://t.co/1P2zf0kElq\n",
      "Suivez nous comme chaque mercredi sur #Tunivisions_live a partir de 17H ; L'équipe de #on_aiRH se fera un plaisir d… https://t.co/TbdAFKCOOx\n",
      "Belgique : disparu à 14 ans, retrouvé vingt ans après https://t.co/LeVl6VKyM7 #Rediff\n",
      "L'Irlande invente la démocratie délibérative\n",
      "https://t.co/WP1IR8KbbK https://t.co/huRgmQaB0u\n",
      "L’épidémie de grippe a déjà fait plus de mille morts https://t.co/DeTTXtD1G4\n",
      "لسعد اليعقوبي ''يبـارك'' المفاوضات الأخيرة مع وزارة التربية https://t.co/2Ckpcrif0j\n",
      "ترامب يدعو لتطوير اتفاقية جديدة للحد من الأسلحة النووية تشمل الصين https://t.co/Yphj7b0KbE\n",
      "Une clé USB exploitable découverte dans les excréments d'un léopard de mer https://t.co/dJZPTWCVeI\n",
      "وليد جلّاد يُبشّر باتّفاق بين الحكومة والاتحاد بخصوص الزيادات وأزمة التعليم https://t.co/4gHUn3MUbD\n",
      "RT @RiotEambo: Additional note: The new loading screen will launch DURING patch 9.3, not at the start of it. Seems like a bit of confusion…\n",
      "RT @ChGroult: Sarkozy-Fillon : les coulisses de la haine fratricide qui gangrène la droite française depuis 2007. Par Gérard Davet, Fabrice…\n",
      "Le gouvernement dissimule sa relation avec l’appareil secret du parti Ennahdha, dénonce Hamma Hammami https://t.co/yIaesf5s04\n",
      "RT @Figaro_Live: 📢 VOTRE AVIS : L'Etat doit-il plus suivre les recommandations de la Cour des comptes ? \n",
      "Dites-nous pourquoi ! RDV jeudi en…\n",
      "🔴 DIRECT - Retrouvez dès maintenant l'émission #PointsDeVue présentée par @G_Roquette et dédiée à quatre sujets :… https://t.co/rr1XDrFq2S\n",
      "Des #GiletsJaunes rencontrent l'Italien Luigi Di Maio : Ingrid Levavasseur se dit « sidérée » par la tournure des é… https://t.co/BkteQ7mefS\n",
      "˙ʞᴉlɐqǝʞ nlɐlǝS https://t.co/lboIf89S7I\n",
      "RT @cauetofficiel: Bouchourriin ! Au programme ce soir ⬇\n",
      "1️⃣Les 10 téléphones les plus vendus de l'Histoire\n",
      "2️⃣Les 10 disputes les plus fré…\n",
      "RT @LesAngesTV: 🤔 Que va décider le conseil des anges?\n",
      "👍 Laisser une chance à Sephora ?\n",
      "👎 L'éliminer définitivement ?\n",
      "La réponse à 19.05 da…\n",
      "La préfète de l’Ardèche prise à partie par des Gilets jaunes https://t.co/K0xRKXW9Ik\n",
      "RT @antoinellorca: .@Mediapart révèle que c’est Matignon qui a provoqué l’enquête sur ses sources dans le cadre de l’Affaire #Benalla et de…\n"
     ]
    }
   ],
   "source": [
    "public_tweets = api.home_timeline()\n",
    "for tweet in public_tweets:\n",
    "    print(tweet.text)"
   ]
  },
  {
   "cell_type": "code",
   "execution_count": 63,
   "metadata": {
    "scrolled": true
   },
   "outputs": [
    {
     "name": "stdout",
     "output_type": "stream",
     "text": [
      "140\n",
      "140\n",
      "140\n",
      "140\n",
      "159\n",
      "139\n",
      "140\n",
      "140\n",
      "140\n",
      "112\n",
      "140\n",
      "139\n",
      "140\n",
      "140\n",
      "177\n",
      "131\n",
      "139\n",
      "140\n",
      "233\n",
      "87\n",
      "140\n",
      "140\n",
      "140\n",
      "140\n",
      "139\n",
      "140\n",
      "227\n",
      "138\n",
      "256\n",
      "140\n",
      "140\n",
      "140\n",
      "140\n",
      "140\n",
      "140\n",
      "139\n",
      "140\n",
      "139\n",
      "135\n",
      "140\n",
      "140\n",
      "140\n",
      "243\n",
      "132\n",
      "140\n",
      "140\n",
      "140\n"
     ]
    }
   ],
   "source": [
    "tweets = api.search(q='#GiletsJaunes', lang='fr', count='50', tweet_mode='extended')\n",
    "for tweet in tweets:\n",
    "    print(len(tweet.full_text))"
   ]
  },
  {
   "cell_type": "code",
   "execution_count": 71,
   "metadata": {},
   "outputs": [
    {
     "name": "stdout",
     "output_type": "stream",
     "text": [
      "L'agence de presse Associated Press analyse le mouvement des #GiletsJaunes : infiltrés par les mouvements d'extrême-droite conspirationnistes, violents, avec des relents de xénophobie, d'antisémitisme, d'homophobie. \n",
      "La belle image que la France donne au monde. https://t.co/rH5Oxijj2O\n",
      "Un Français sur dix estime que l'attentat du 11 décembre à #Strasbourg était une «manipulation du gouvernement pour détourner l'attention» en plein mouvement des #GiletsJaunes, selon un sondage Ifop\n",
      "https://t.co/HAe0o5gHiq https://t.co/jpQAvlT4Ik\n",
      "#Hanouna, qui se fait le porte-voix des #giletsjaunes empoche 40 000 euros par mois (hors dividende) alors que les intermittents de Canal sont au pain sec, selon le Canard enchaîné... #TPMP #BTP https://t.co/G8mbbbrkBS\n",
      "@BAZILLEELISSAL2 @Ch_PONSARD @Europe1 Désolé, on voit bien que la police est présente mais que peut elle faire  (sans bavure) devant un bataillon de #GiletsJaunes irresponsables et hargneux (à moins de faire une descente à la mitraillette) ?\n",
      "\n",
      "\n",
      "2019-02-06 17:04:11\n",
      "@Jaguar573 @mistercool63 @CCastaner @Midilibre @Place_Beauvau @gouvernementFR @Prefet34 @PoliceNat34 @Gendarmerie @PoliceNationale @DGPNEricMorvan ...mais tu insultes les gens qui ne sont pas du même avis que toi.\n",
      "La majorité des #giletsjaunes que je connais n'attendent rien de l'état. Ils bossent, veulent moins de taxes, une meilleure gestion de l'argent public, la fin de l'évasion fiscale et une démocratie participative.\n",
      "\n",
      "\n",
      "2019-02-06 17:04:07\n",
      "Pour @AQuatennens sur @LCI : la remontée d'@EmmanuelMacron dans les sondages (+ 11 % en deux mois, plus haut qu'avant la crise des #GiletsJaunes) est \"une lente agonie\". \n",
      "On tient un champion ! https://t.co/d1LFVIDhrp\n",
      "Rage et dégoût. La cabane des #GiletsJaunes de #Castelnaudary entièrement couverte de graffitis haineux cette nuit. Que cherchent ces gens en couvrant de haine les panneaux d'invitation au partage citoyen ? Que prouvent-ils en s'attaquant à ce symbole de la dignité reconquise ? https://t.co/c0GjFHy968\n",
      "Des mois de violences policières et de répression provoquées par le Régime de Nicolás Mad... par @EmmanuelMacron en #France #GreveGenerale5fevrier #GreveGenerale #DirectAN \n",
      "\n",
      "🔴#PARIS #FDO\n",
      "\n",
      "#GiletsJaunes 💪💪💪✊ https://t.co/2s6q68s85j\n",
      "Nous appelons toutes les assemblées de #GiletsJaunes à intégrer les questions de l’assurance #chômage et du refus du contrôle des #chômeurs parmi les revendications pour une société plus juste et libérée de la précarité \" disent-ils. #DroitAuChômage\n",
      "#GiletsJaunes\n",
      "Macron est un pantin, les gilets jaunes sont une inspiration pour le monde https://t.co/BM5ySrCwXi via @YouTube\n",
      "\n",
      "\n",
      "2019-02-06 17:04:02\n",
      "La cause vénézuélienne est louable mais comment se fait-il qu’@EmmanuelMacron y joue les moralisateurs alors que son pays est occupé par les #Giletsjaunes ? En agissant ainsi tend le bâton pour se faire battre alors que la France est actuellement la risée du monde.\n",
      "⚡️📊 SONDAGE - #GiletsJaunes\n",
      "\n",
      "Prenez le temps de voter et de RT ce sondage pour obtenir un échantillon le plus large possible ! Merci ✊\n",
      "\n",
      "Comment qualifieriez-vous les violences policières depuis plusieurs mois ?\n",
      "(Expliquez-vous en commentaire)\n",
      "Organiser un référendum le jour où les français doivent voter aux #ÉlectionsEuropéennes, notre Dieu-Président #Macron chercherait il a détourner l’attention des gens de ces élections importantes et dangereuses pour lui ??? Ça ne serait pas surprenant. #TF1 #LCI #giletsjaunes #RN\n",
      "La France c’est le pays des clochers et surtout des \"girouettes\", la remontée de #Macron dans les sondages en est la preuve affligeante. Les Français changent d’avis en permanence ils sont trop manipulables. #giletsjaunes #TF1 #LCI #BFMTV #IFOP #CNEWS #OnEstGouvernéParDesClowns\n",
      "« La prétendue \"#LoiAntiCasseurs\" présentée par le gouvernement est en réalité une loi anti-#GiletsJaunes liberticide. Contre les casseurs professionnels, l'arsenal juridique existe déjà : il faut l'appliquer ! » @franceinfo https://t.co/V18JNI6DOt\n",
      "À chacun de faire circuler cet appel, de le faire sien et d’y répondre. \n",
      "Rdv samedi à 10h au départ du cortège des #GiletsJaunes de Montreuil vers Paris.\n",
      "Via @CIPIDF : Appel des gilets jaunes intermittent.e.s chômeur.euse.s précaires https://t.co/s8wgM4WCzt https://t.co/XuZeCZExkW\n",
      "La cause vénézuélienne est louable mais comment se fait-il qu’@EmmanuelMacron y joue les moralisateurs alors que son pays est occupé par les #Giletsjaunes ? En agissant ainsi tend le bâton pour se faire battre alors que la France est actuellement la risée du monde.\n",
      "La cause vénézuélienne est louable mais comment se fait-il qu’@EmmanuelMacron y joue les moralisateurs alors que son pays est occupé par les #Giletsjaunes ? En agissant ainsi tend le bâton pour se faire battre alors que la France est actuellement la risée du monde.\n",
      "📹 « A l'Assemblée, nous avons voté contre le texte de la \"#LoiAntiCasseurs\", car il est éminemment dangereux et menace nos grandes libertés individuelles. Ce n'est pas une loi anti-casseurs, c'est une loi anti-#GiletsJaunes ! » #8h30Politique https://t.co/nI44PMkQBA\n",
      "Très heureux de travailler avec Jean-François Barnaba, l’un des porte-voix des français en colère. Un homme éclairé, un véritable républicain profondément attaché à la fraternité. #Europeennes2019 \n",
      "\n",
      "@barnaba_jean  #republique \n",
      "\n",
      "#GiletsJaunes https://t.co/kFyq8KNENb\n",
      "\n",
      "\n",
      "2019-02-06 17:03:43\n",
      "Bonjour,\n",
      "A quoi aura servi le mouvement des #GiletsJaunes ? A mon sens a pas grand chose, peut-être à réveiller certaines consciences, à quelques saupoudrages budgétaire pour en calmer certains, à mettre en avant les extrêmes, mais surtout à mettre en valeur @EmmanuelMacron\n",
      "Monsieur ⁦@EmmanuelMacron⁩, ne vous inquiétez pas, cet homme ne vient pas à ⁦@Elysee⁩, il ne manifestera pas samedi avec les #giletsjaunes, il sera mort de froid cette nuit. Où en sommes-nous de votre promesse «aucun #SDF dans la rue d’ici la fin de l’année 2017 »? https://t.co/9nIPqjtTOy\n",
      "📺 #GILETSJAUNES ET UNION EUROPÉENNE\n",
      "Un #Referendum le jour des #Europeennes2019 serait sans doute pour #Macron une façon de noyer le poisson, mais ne faisons pas comme si la situation de notre pays n'avait rien à voir avec la politique européenne ! #ServicesPublics #Austérité https://t.co/0CsCHcJyCP\n",
      "Sur ordre de @CCastaner ?\n",
      "\n",
      "#GiletsJaunes #GiletsJaunes94 #ActeXIII #Acte13 #AmnistiePourLesGJ #ISF #RIC #GiletsJaunes75 #GiletsJaunes77 #GiletsJaunes78 #GiletsJaunes91 #GiletsJaunes92 #GiletsJaunes93 #GiletsJaunes95\n",
      "#femmesgiletsjaunes https://t.co/iVu9WTFG2h\n",
      "Grand Débat de #Béziers : le message d'une maman de cinq enfants, handicapée, au Président Macron. #GrandDebatBeziers #GiletsJaunes https://t.co/ERt6RAGXQ2\n",
      "Willy Wonka a caché des tickets d'or sous les pavés parisiens !\n",
      "\n",
      "#GiletsJaunes #acte13 #acteXIII #loiantimanifs #loianticasseur https://t.co/2pZl6T67dw\n",
      "Organiser un référendum le jour où les français doivent voter aux #ÉlectionsEuropéennes, notre Dieu-Président #Macron chercherait il a détourner l’attention des gens de ces élections importantes et dangereuses pour lui ??? Ça ne serait pas surprenant. #TF1 #LCI #giletsjaunes #RN\n",
      "La cause vénézuélienne est louable mais comment se fait-il qu’@EmmanuelMacron y joue les moralisateurs alors que son pays est occupé par les #Giletsjaunes ? En agissant ainsi tend le bâton pour se faire battre alors que la France est actuellement la risée du monde.\n",
      "C'est là que ça a basculé et cela passera inaperçu. Cette loi est une honte pour notre pays. Elle est le reflet de la crainte de nos dirigeants face au peuple français #giletsjaunes #libertéspubliques #démocracie https://t.co/BI3m4WN669\n",
      "La France c’est le pays des clochers et surtout des \"girouettes\", la remontée de #Macron dans les sondages en est la preuve affligeante. Les Français changent d’avis en permanence ils sont trop manipulables. #giletsjaunes #TF1 #LCI #BFMTV #IFOP #CNEWS #OnEstGouvernéParDesClowns\n",
      "#GiletsJaunes\n",
      "GILETS JAUNES DES VOSGES : \"MACRON N'EST QU'UN PION\" https://t.co/cDyIahcMtG via @YouTube\n",
      "\n",
      "\n",
      "2019-02-06 17:03:27\n",
      "@BFMTV Hulot, Ophelin... après la désertion de 50 députés, hier, en rase campagne anticasseurs. Je pensais que cette décomposition s'amorcerait plus tard vers mi-2020.. c'est rapide.\n",
      " Effet #GiletsJaunes , #GrandDebatNational  #Benalla ?\n",
      "Un peu de tout ça, avec des portes qui s'ouvrent. https://t.co/ZvsU8LXbCQ\n",
      "\n",
      "\n",
      "2019-02-06 17:03:25\n",
      "«Je stop tout projet et autres relais d'actions pour éviter les mécontents!»\n",
      "dépasser par la prètions des autres #GiletsJaunes, #JérômeRodrigues racrochent aprés les relevation sur sont passé judicières\n",
      "https://t.co/w8FCVgL2wZ\n",
      "Amis #GiletsJaunes, ne vous laissez pas manipuler par la gauchaille ! \n",
      "Notre combat c'est pas le retour de l'ISF. Notre combat c'est notre pouvoir d'achat(via la baisse des impôts) et la démocratie (le RIC). C'est pas l'augmentation de l’impôt pour les riches. Marre des CGTistes!\n",
      "CRS pendant 22 ans : Collègues , «Je vous demande de vous arrêter» .\n",
      "https://t.co/nRcP1Y9b3v\n",
      "#GiletJaune #GiletsJaunes #assembleenationale #senat #droitsdelhomme #Amnestyinternational #ViolencesPolicieres #acte #TF1 #France2 #BFM #CNN #TV5 #CBSNews #RTFrance #LCI #Cnews https://t.co/uxxnr5mJix\n",
      "Je mets en garde les #GiletsJaunes contre la tentation d'un rapprochement avec les syndicats, qui sont restés inertes face à la réforme du travail dont le but est de payer la compétitivité avec la paupérisation des salariés. Rentrez dans le système et le système vous tuera. https://t.co/EYyGwy71Qm\n",
      "Effectivement @NBelloubet, le #Venezuela n'est pas la France. On peut encore s'y habiller comme on le souhaite\n",
      "#GreveGenerale5fevrier #GiletsJaunes #Lyon https://t.co/BvY01Zj95L\n",
      "#DirectAN Rappelez-vous ce vote, leurs noms, leur applaudissements. Emportée dans une course folle avec #LR &amp; le #RN à l’échalote sécuritaire #LReM vient d'adopter une #LoiAntiCasseurs liberticide qui porte un nouveau coup de hache à l'Etat de droit #GiletsJaunes #democrature https://t.co/TXFE3daMaf\n",
      "#LoiAntiCasseurs selon vous elle est :\n",
      "\n",
      "#sondage #GiletsJaunes #GreveGenerale5fevrier #GrandDebatNational\n",
      "La cause vénézuélienne est louable mais comment se fait-il qu’@EmmanuelMacron y joue les moralisateurs alors que son pays est occupé par les #Giletsjaunes ? En agissant ainsi tend le bâton pour se faire battre alors que la France est actuellement la risée du monde.\n",
      "#Frontignan #GiletsJaunes en place depuis 3h00 du matin pour un blocage filtrant du dépôt de carburant https://t.co/YeaDHpEVIY\n",
      "📹 « A l'Assemblée, nous avons voté contre le texte de la \"#LoiAntiCasseurs\", car il est éminemment dangereux et menace nos grandes libertés individuelles. Ce n'est pas une loi anti-casseurs, c'est une loi anti-#GiletsJaunes ! » #8h30Politique https://t.co/nI44PMkQBA\n",
      "CRS pendant 22 ans : Collègues , «Je vous demande de vous arrêter» .\n",
      "https://t.co/nRcP1Y9b3v\n",
      "#GiletJaune #GiletsJaunes #assembleenationale #senat #droitsdelhomme #Amnestyinternational #ViolencesPolicieres #acte #TF1 #France2 #BFM #CNN #TV5 #CBSNews #RTFrance #LCI #Cnews https://t.co/uxxnr5mJix\n",
      "7 #GiletsJaunes arrêtés ce matin à leur domicile à Villefranche s/s (69). Le groupe de Villefranche a toujours été pacifique 😡 https://t.co/maPGTdmEyo\n",
      "Que ces types vociférant « tout le monde déteste la police » osent aller hurler leur haine devant ce policier qui, au prix de sa vie, a secouru 10 personnes lors de l’incendie rue #Erlanger😡\n",
      "Quelle indignité !\n",
      "#Incendie #GiletsJaunes #Paris #GreveGenerale\n",
      "https://t.co/DQ0e9uljfP\n",
      "🎙 #DériveAutoritaire : Votre devoir est de veiller à ce que l’on puisse manifester contre votre propre politique ! Pas de réprimer les manifestations ! #GiletsJaunes\n",
      "\n",
      "➡️ Ma question à @CCastaner représenté cette nuit par  @NunezLaurent dans l’hémicycle. https://t.co/kxvFRRG2Z8\n",
      "Des mois de violences policières et de répression provoquées par le Régime de Nicolás Mad... par @EmmanuelMacron en #France #GreveGenerale5fevrier #GreveGenerale #DirectAN \n",
      "\n",
      "🔴#PARIS #FDO\n",
      "\n",
      "#GiletsJaunes 💪💪💪✊ https://t.co/2s6q68s85j\n",
      "#Lyon : la police nationale  obligeant les manifestants à retirer leur gilet jaune pour circuler librement dans la manifestation #GreveGenerale5fevrier #GiletsJaunes  https://t.co/FM6gnUqrvh\n",
      "Ce serait Quand même Le gag que le mouvement des #giletsjaunes né sur le ras-le-bol fiscal débouche sur de nouvelles hausses d'impôts @ParisMatch https://t.co/xKMVrmtGeD\n",
      "Faut dire que si les motards de la #police arrivaient comme cela aux manifestations des #giletsjaunes ça mettrait une autre ambiance :-))\n",
      "\n",
      "#Humour https://t.co/Fq4IS7XuL3\n"
     ]
    }
   ],
   "source": [
    "tweets = api.search(q='#GiletsJaunes', lang='fr', count='50', tweet_mode='extended')\n",
    "for tweet in tweets:\n",
    "    if None != tweet._json.get('retweeted_status'):\n",
    "        print(tweet._json.get('retweeted_status').get('full_text'))\n",
    "    else:\n",
    "        print(tweet.full_text)\n",
    "        print('\\n')\n",
    "        print(tweet.created_at)"
   ]
  },
  {
   "cell_type": "code",
   "execution_count": 5,
   "metadata": {},
   "outputs": [],
   "source": [
    "user = api.get_user('twitter')"
   ]
  },
  {
   "cell_type": "code",
   "execution_count": 6,
   "metadata": {
    "scrolled": true
   },
   "outputs": [
    {
     "name": "stdout",
     "output_type": "stream",
     "text": [
      "Twitter\n",
      "55891449\n",
      "TwitterTogether\n",
      "TwitterMediaJP\n",
      "TwitterSeguro\n",
      "AdsAPI\n",
      "pichette\n",
      "TwitterA11y\n",
      "TwitterComms\n",
      "TwitterSportsCA\n",
      "TwitterVideoIN\n",
      "TwitterREW\n",
      "TwitterAdsHelp\n",
      "TwitterMktgFR\n",
      "JoinTheFlockJP\n",
      "TwitterMktgBR\n",
      "TwitterSportsJP\n",
      "TwitterDevJP\n",
      "TwitterTVJP\n",
      "TwitterMedia\n",
      "PeriscopeHelp\n",
      "TwitterLifeline\n"
     ]
    }
   ],
   "source": [
    "print(user.screen_name)\n",
    "print(user.followers_count)\n",
    "for friend in user.friends():\n",
    "   print(friend.screen_name)"
   ]
  },
  {
   "cell_type": "code",
   "execution_count": 12,
   "metadata": {
    "scrolled": true
   },
   "outputs": [
    {
     "ename": "TweepError",
     "evalue": "This method does not perform pagination",
     "output_type": "error",
     "traceback": [
      "\u001b[1;31m---------------------------------------------------------------------------\u001b[0m",
      "\u001b[1;31mTweepError\u001b[0m                                Traceback (most recent call last)",
      "\u001b[1;32m<ipython-input-12-6f45ac85f492>\u001b[0m in \u001b[0;36m<module>\u001b[1;34m()\u001b[0m\n\u001b[0;32m      1\u001b[0m \u001b[0mresults\u001b[0m \u001b[1;33m=\u001b[0m \u001b[0mapi\u001b[0m\u001b[1;33m.\u001b[0m\u001b[0msearch\u001b[0m\u001b[1;33m(\u001b[0m\u001b[0mq\u001b[0m\u001b[1;33m=\u001b[0m\u001b[1;34m'#GiletsJaunes'\u001b[0m\u001b[1;33m,\u001b[0m \u001b[0mlang\u001b[0m\u001b[1;33m=\u001b[0m\u001b[1;34m'fr'\u001b[0m\u001b[1;33m,\u001b[0m \u001b[0mcount\u001b[0m\u001b[1;33m=\u001b[0m\u001b[1;34m'50'\u001b[0m\u001b[1;33m,\u001b[0m \u001b[0mtweet_mode\u001b[0m\u001b[1;33m=\u001b[0m\u001b[1;34m'extended'\u001b[0m\u001b[1;33m)\u001b[0m\u001b[1;33m\u001b[0m\u001b[0m\n\u001b[1;32m----> 2\u001b[1;33m \u001b[0mtweets\u001b[0m \u001b[1;33m=\u001b[0m \u001b[0mtweepy\u001b[0m\u001b[1;33m.\u001b[0m\u001b[0mCursor\u001b[0m\u001b[1;33m(\u001b[0m\u001b[0mresults\u001b[0m\u001b[1;33m,\u001b[0m \u001b[0mtweet_mode\u001b[0m\u001b[1;33m=\u001b[0m\u001b[1;34m'extended'\u001b[0m\u001b[1;33m)\u001b[0m\u001b[1;33m\u001b[0m\u001b[0m\n\u001b[0m\u001b[0;32m      3\u001b[0m \u001b[1;32mfor\u001b[0m \u001b[0mtweet\u001b[0m \u001b[1;32min\u001b[0m \u001b[0mtweets\u001b[0m\u001b[1;33m:\u001b[0m\u001b[1;33m\u001b[0m\u001b[0m\n\u001b[0;32m      4\u001b[0m     \u001b[0mcontent\u001b[0m \u001b[1;33m=\u001b[0m \u001b[0mlen\u001b[0m\u001b[1;33m(\u001b[0m\u001b[0mtweet\u001b[0m\u001b[1;33m.\u001b[0m\u001b[0mfull_text\u001b[0m\u001b[1;33m)\u001b[0m\u001b[1;33m\u001b[0m\u001b[0m\n",
      "\u001b[1;32m~\\Anaconda3\\lib\\site-packages\\tweepy\\cursor.py\u001b[0m in \u001b[0;36m__init__\u001b[1;34m(self, method, *args, **kargs)\u001b[0m\n\u001b[0;32m     23\u001b[0m                 \u001b[1;32mraise\u001b[0m \u001b[0mTweepError\u001b[0m\u001b[1;33m(\u001b[0m\u001b[1;34m'Invalid pagination mode.'\u001b[0m\u001b[1;33m)\u001b[0m\u001b[1;33m\u001b[0m\u001b[0m\n\u001b[0;32m     24\u001b[0m         \u001b[1;32melse\u001b[0m\u001b[1;33m:\u001b[0m\u001b[1;33m\u001b[0m\u001b[0m\n\u001b[1;32m---> 25\u001b[1;33m             \u001b[1;32mraise\u001b[0m \u001b[0mTweepError\u001b[0m\u001b[1;33m(\u001b[0m\u001b[1;34m'This method does not perform pagination'\u001b[0m\u001b[1;33m)\u001b[0m\u001b[1;33m\u001b[0m\u001b[0m\n\u001b[0m\u001b[0;32m     26\u001b[0m \u001b[1;33m\u001b[0m\u001b[0m\n\u001b[0;32m     27\u001b[0m     \u001b[1;32mdef\u001b[0m \u001b[0mpages\u001b[0m\u001b[1;33m(\u001b[0m\u001b[0mself\u001b[0m\u001b[1;33m,\u001b[0m \u001b[0mlimit\u001b[0m\u001b[1;33m=\u001b[0m\u001b[1;36m0\u001b[0m\u001b[1;33m)\u001b[0m\u001b[1;33m:\u001b[0m\u001b[1;33m\u001b[0m\u001b[0m\n",
      "\u001b[1;31mTweepError\u001b[0m: This method does not perform pagination"
     ]
    }
   ],
   "source": [
    "results = api.search(q='#GiletsJaunes', lang='fr', count='50', tweet_mode='extended')\n",
    "for tweet in results:\n",
    "        print(len(tweet.full_text))"
   ]
  },
  {
   "cell_type": "code",
   "execution_count": 9,
   "metadata": {
    "scrolled": true
   },
   "outputs": [
    {
     "ename": "TypeError",
     "evalue": "'Cursor' object is not iterable",
     "output_type": "error",
     "traceback": [
      "\u001b[1;31m---------------------------------------------------------------------------\u001b[0m",
      "\u001b[1;31mTypeError\u001b[0m                                 Traceback (most recent call last)",
      "\u001b[1;32m<ipython-input-9-5ef442e7234e>\u001b[0m in \u001b[0;36m<module>\u001b[1;34m()\u001b[0m\n\u001b[0;32m      1\u001b[0m \u001b[0mtweets\u001b[0m \u001b[1;33m=\u001b[0m \u001b[0mtweepy\u001b[0m\u001b[1;33m.\u001b[0m\u001b[0mCursor\u001b[0m\u001b[1;33m(\u001b[0m\u001b[0mapi\u001b[0m\u001b[1;33m.\u001b[0m\u001b[0msearch\u001b[0m\u001b[1;33m,\u001b[0m \u001b[0mtweet_mode\u001b[0m\u001b[1;33m=\u001b[0m\u001b[1;34m'extended'\u001b[0m\u001b[1;33m)\u001b[0m\u001b[1;33m\u001b[0m\u001b[0m\n\u001b[1;32m----> 2\u001b[1;33m \u001b[1;32mfor\u001b[0m \u001b[0mtweet\u001b[0m \u001b[1;32min\u001b[0m \u001b[0mtweets\u001b[0m\u001b[1;33m:\u001b[0m\u001b[1;33m\u001b[0m\u001b[0m\n\u001b[0m\u001b[0;32m      3\u001b[0m     \u001b[0mcontent\u001b[0m \u001b[1;33m=\u001b[0m \u001b[0mtweet\u001b[0m\u001b[1;33m.\u001b[0m\u001b[0mfull_text\u001b[0m\u001b[1;33m\u001b[0m\u001b[0m\n\u001b[0;32m      4\u001b[0m \u001b[0mprint\u001b[0m\u001b[1;33m(\u001b[0m\u001b[0mcontent\u001b[0m\u001b[1;33m)\u001b[0m\u001b[1;33m\u001b[0m\u001b[0m\n",
      "\u001b[1;31mTypeError\u001b[0m: 'Cursor' object is not iterable"
     ]
    }
   ],
   "source": [
    "tweets = tweepy.Cursor(api.search, tweet_mode='extended')\n",
    "for tweet in tweets:\n",
    "    content = len(tweet.full_text)\n",
    "print(content)"
   ]
  },
  {
   "cell_type": "code",
   "execution_count": 54,
   "metadata": {
    "scrolled": true
   },
   "outputs": [
    {
     "ename": "TweepError",
     "evalue": "This method does not perform pagination",
     "output_type": "error",
     "traceback": [
      "\u001b[1;31m---------------------------------------------------------------------------\u001b[0m",
      "\u001b[1;31mTweepError\u001b[0m                                Traceback (most recent call last)",
      "\u001b[1;32m<ipython-input-54-766cc419abf3>\u001b[0m in \u001b[0;36m<module>\u001b[1;34m()\u001b[0m\n\u001b[1;32m----> 1\u001b[1;33m \u001b[0mtweets\u001b[0m \u001b[1;33m=\u001b[0m \u001b[0mtweepy\u001b[0m\u001b[1;33m.\u001b[0m\u001b[0mCursor\u001b[0m\u001b[1;33m(\u001b[0m\u001b[0mapi\u001b[0m\u001b[1;33m.\u001b[0m\u001b[0msearch\u001b[0m\u001b[1;33m(\u001b[0m\u001b[0mq\u001b[0m\u001b[1;33m=\u001b[0m\u001b[1;34m'#GiletsJaunes'\u001b[0m\u001b[1;33m,\u001b[0m \u001b[0mlang\u001b[0m\u001b[1;33m=\u001b[0m\u001b[1;34m'fr'\u001b[0m\u001b[1;33m)\u001b[0m\u001b[1;33m,\u001b[0m \u001b[0mtweet_mode\u001b[0m\u001b[1;33m=\u001b[0m\u001b[1;34m'extended'\u001b[0m\u001b[1;33m)\u001b[0m\u001b[1;33m.\u001b[0m\u001b[0mitems\u001b[0m\u001b[1;33m(\u001b[0m\u001b[1;36m10\u001b[0m\u001b[1;33m)\u001b[0m\u001b[1;33m\u001b[0m\u001b[0m\n\u001b[0m\u001b[0;32m      2\u001b[0m \u001b[1;32mfor\u001b[0m \u001b[0mtweet\u001b[0m \u001b[1;32min\u001b[0m \u001b[0mtweets\u001b[0m\u001b[1;33m:\u001b[0m\u001b[1;33m\u001b[0m\u001b[0m\n\u001b[0;32m      3\u001b[0m     \u001b[0mprint\u001b[0m\u001b[1;33m(\u001b[0m\u001b[0mlen\u001b[0m\u001b[1;33m(\u001b[0m\u001b[0mtweet\u001b[0m\u001b[1;33m.\u001b[0m\u001b[0mfull_text\u001b[0m\u001b[1;33m)\u001b[0m\u001b[1;33m)\u001b[0m\u001b[1;33m\u001b[0m\u001b[0m\n",
      "\u001b[1;32m~\\Anaconda3\\lib\\site-packages\\tweepy\\cursor.py\u001b[0m in \u001b[0;36m__init__\u001b[1;34m(self, method, *args, **kargs)\u001b[0m\n\u001b[0;32m     23\u001b[0m                 \u001b[1;32mraise\u001b[0m \u001b[0mTweepError\u001b[0m\u001b[1;33m(\u001b[0m\u001b[1;34m'Invalid pagination mode.'\u001b[0m\u001b[1;33m)\u001b[0m\u001b[1;33m\u001b[0m\u001b[0m\n\u001b[0;32m     24\u001b[0m         \u001b[1;32melse\u001b[0m\u001b[1;33m:\u001b[0m\u001b[1;33m\u001b[0m\u001b[0m\n\u001b[1;32m---> 25\u001b[1;33m             \u001b[1;32mraise\u001b[0m \u001b[0mTweepError\u001b[0m\u001b[1;33m(\u001b[0m\u001b[1;34m'This method does not perform pagination'\u001b[0m\u001b[1;33m)\u001b[0m\u001b[1;33m\u001b[0m\u001b[0m\n\u001b[0m\u001b[0;32m     26\u001b[0m \u001b[1;33m\u001b[0m\u001b[0m\n\u001b[0;32m     27\u001b[0m     \u001b[1;32mdef\u001b[0m \u001b[0mpages\u001b[0m\u001b[1;33m(\u001b[0m\u001b[0mself\u001b[0m\u001b[1;33m,\u001b[0m \u001b[0mlimit\u001b[0m\u001b[1;33m=\u001b[0m\u001b[1;36m0\u001b[0m\u001b[1;33m)\u001b[0m\u001b[1;33m:\u001b[0m\u001b[1;33m\u001b[0m\u001b[0m\n",
      "\u001b[1;31mTweepError\u001b[0m: This method does not perform pagination"
     ]
    }
   ],
   "source": [
    "tweets = tweepy.Cursor(api.search(q='#GiletsJaunes', lang='fr'), tweet_mode='extended').items(10)\n",
    "for tweet in tweets:\n",
    "    print(len(tweet.full_text))"
   ]
  },
  {
   "cell_type": "code",
   "execution_count": 62,
   "metadata": {},
   "outputs": [
    {
     "name": "stdout",
     "output_type": "stream",
     "text": [
      "#twitter : 89b1cc33-6700-42e9-9c28-0c738e765848\n",
      "RT @CorreErwan: COPYROOM #Rennes cherche un·e stagiaire pour un poste de « Community Manager » pour développer son image et booster sa répu…\n",
      "#twitter : 6672c2ef-395c-44c7-ae8e-673d82c49355\n",
      "RT @KevinRbd3: Aime si tu vois un point commun ✌️😀😀 @AyaNakamuraa #Malefique 🔥✌️ #Ayanakamura #Twitter https://t.co/pRq47hw2kK\n",
      "RT @fj_amelie: Pour moi #twitter c'est juste pour rigoler \n",
      "Je comprends les gens qui sont là pour Rager ou insulter, au pire tu aimes pas t…\n",
      "RT @fj_amelie: Pour moi #twitter c'est juste pour rigoler \n",
      "Je comprends les gens qui sont là pour Rager ou insulter, au pire tu aimes pas t…\n",
      "RT @mouhammadciss: Hello #Twitter alors un nouveau #ChallengeLecture \n",
      "\n",
      "- Attrapez le livre le plus plus proche de vous : \n",
      "-Allez à la page…\n",
      "Certificat #twitter pour les #entreprises obtenu aujourd’hui 🤗👩‍💻🐼 Merci #Linkedinlearning https://t.co/U5qnbyZHHD\n",
      "Aime si tu vois un point commun ✌️😀😀 @AyaNakamuraa #Malefique 🔥✌️ #Ayanakamura #Twitter https://t.co/pRq47hw2kK\n",
      "RT @MbAPipite: rajoutez-moi la #TeamPSG, j’me suis fait sautée par #Twitter , et ça fait mal au cul ! c’est honteux ! 🤬\n",
      "\n",
      "#PSG https://t.co/…\n"
     ]
    }
   ],
   "source": [
    "for status in tweepy.Cursor(api.search, q=\"#twitter\",tweet_mode='extended',lang='fr').items(10):\n",
    "    #if (status._json['truncated'] == True):\n",
    "    print(status.full_text)"
   ]
  },
  {
   "cell_type": "code",
   "execution_count": null,
   "metadata": {},
   "outputs": [],
   "source": [
    "stuff = api.user_timeline(screen_name = twitter_name, count = 100, include_rts = False, tweet_mode = 'extended')\n"
   ]
  },
  {
   "cell_type": "code",
   "execution_count": 59,
   "metadata": {},
   "outputs": [
    {
     "ename": "SyntaxError",
     "evalue": "keyword argument repeated (<ipython-input-59-36595b9e37ef>, line 1)",
     "output_type": "error",
     "traceback": [
      "\u001b[1;36m  File \u001b[1;32m\"<ipython-input-59-36595b9e37ef>\"\u001b[1;36m, line \u001b[1;32m1\u001b[0m\n\u001b[1;33m    tweets = tweepy.Cursor(api.search,q=\"#twitter\",tweet_mode='extended',lang='fr', tweet_mode='extended')\u001b[0m\n\u001b[1;37m                                                                                   ^\u001b[0m\n\u001b[1;31mSyntaxError\u001b[0m\u001b[1;31m:\u001b[0m keyword argument repeated\n"
     ]
    }
   ],
   "source": [
    "tweets = tweepy.Cursor(api.search(q=\"#twitter\",tweet_mode='extended',lang='fr'), tweet_mode='extended')\n",
    "for tweet in tweets:\n",
    "    content = tweet.full_text"
   ]
  },
  {
   "cell_type": "code",
   "execution_count": 93,
   "metadata": {},
   "outputs": [
    {
     "name": "stdout",
     "output_type": "stream",
     "text": [
      "Enter the number of tweets that you want to extract- 10000\n",
      "Enter the hashtag you want to scrape- GiletsJaunes\n"
     ]
    },
    {
     "ename": "TweepError",
     "evalue": "Twitter error response: status code = 429",
     "output_type": "error",
     "traceback": [
      "\u001b[1;31m---------------------------------------------------------------------------\u001b[0m",
      "\u001b[1;31mTweepError\u001b[0m                                Traceback (most recent call last)",
      "\u001b[1;32m<ipython-input-93-8437e92dc928>\u001b[0m in \u001b[0;36m<module>\u001b[1;34m()\u001b[0m\n\u001b[0;32m      7\u001b[0m \u001b[1;33m\u001b[0m\u001b[0m\n\u001b[0;32m      8\u001b[0m for tweet in tweepy.Cursor(api.search, q='#' + hashtag,lang='fr',tweet_mode='extended',\n\u001b[1;32m----> 9\u001b[1;33m rpp=100).items(maximum_number_of_tweets_to_be_extracted):\n\u001b[0m\u001b[0;32m     10\u001b[0m     \u001b[1;32mwith\u001b[0m \u001b[0mopen\u001b[0m\u001b[1;33m(\u001b[0m\u001b[1;34m'FR_tweets_with_hashtag_'\u001b[0m \u001b[1;33m+\u001b[0m \u001b[0mhashtag\u001b[0m \u001b[1;33m+\u001b[0m \u001b[1;34m'.txt'\u001b[0m\u001b[1;33m,\u001b[0m \u001b[1;34m'a'\u001b[0m\u001b[1;33m,\u001b[0m\u001b[0mencoding\u001b[0m\u001b[1;33m=\u001b[0m\u001b[1;34m'utf-8'\u001b[0m\u001b[1;33m)\u001b[0m \u001b[1;32mas\u001b[0m \u001b[0mthe_file\u001b[0m\u001b[1;33m:\u001b[0m\u001b[1;33m\u001b[0m\u001b[0m\n\u001b[0;32m     11\u001b[0m         \u001b[1;32mif\u001b[0m \u001b[0mhasattr\u001b[0m\u001b[1;33m(\u001b[0m\u001b[0mtweet\u001b[0m\u001b[1;33m,\u001b[0m \u001b[1;34m'retweeted_status'\u001b[0m\u001b[1;33m)\u001b[0m\u001b[1;33m:\u001b[0m\u001b[1;33m\u001b[0m\u001b[0m\n",
      "\u001b[1;32m~\\Anaconda3\\lib\\site-packages\\tweepy\\cursor.py\u001b[0m in \u001b[0;36m__next__\u001b[1;34m(self)\u001b[0m\n\u001b[0;32m     47\u001b[0m \u001b[1;33m\u001b[0m\u001b[0m\n\u001b[0;32m     48\u001b[0m     \u001b[1;32mdef\u001b[0m \u001b[0m__next__\u001b[0m\u001b[1;33m(\u001b[0m\u001b[0mself\u001b[0m\u001b[1;33m)\u001b[0m\u001b[1;33m:\u001b[0m\u001b[1;33m\u001b[0m\u001b[0m\n\u001b[1;32m---> 49\u001b[1;33m         \u001b[1;32mreturn\u001b[0m \u001b[0mself\u001b[0m\u001b[1;33m.\u001b[0m\u001b[0mnext\u001b[0m\u001b[1;33m(\u001b[0m\u001b[1;33m)\u001b[0m\u001b[1;33m\u001b[0m\u001b[0m\n\u001b[0m\u001b[0;32m     50\u001b[0m \u001b[1;33m\u001b[0m\u001b[0m\n\u001b[0;32m     51\u001b[0m     \u001b[1;32mdef\u001b[0m \u001b[0mnext\u001b[0m\u001b[1;33m(\u001b[0m\u001b[0mself\u001b[0m\u001b[1;33m)\u001b[0m\u001b[1;33m:\u001b[0m\u001b[1;33m\u001b[0m\u001b[0m\n",
      "\u001b[1;32m~\\Anaconda3\\lib\\site-packages\\tweepy\\cursor.py\u001b[0m in \u001b[0;36mnext\u001b[1;34m(self)\u001b[0m\n\u001b[0;32m    195\u001b[0m         \u001b[1;32mif\u001b[0m \u001b[0mself\u001b[0m\u001b[1;33m.\u001b[0m\u001b[0mcurrent_page\u001b[0m \u001b[1;32mis\u001b[0m \u001b[1;32mNone\u001b[0m \u001b[1;32mor\u001b[0m \u001b[0mself\u001b[0m\u001b[1;33m.\u001b[0m\u001b[0mpage_index\u001b[0m \u001b[1;33m==\u001b[0m \u001b[0mlen\u001b[0m\u001b[1;33m(\u001b[0m\u001b[0mself\u001b[0m\u001b[1;33m.\u001b[0m\u001b[0mcurrent_page\u001b[0m\u001b[1;33m)\u001b[0m \u001b[1;33m-\u001b[0m \u001b[1;36m1\u001b[0m\u001b[1;33m:\u001b[0m\u001b[1;33m\u001b[0m\u001b[0m\n\u001b[0;32m    196\u001b[0m             \u001b[1;31m# Reached end of current page, get the next page...\u001b[0m\u001b[1;33m\u001b[0m\u001b[1;33m\u001b[0m\u001b[0m\n\u001b[1;32m--> 197\u001b[1;33m             \u001b[0mself\u001b[0m\u001b[1;33m.\u001b[0m\u001b[0mcurrent_page\u001b[0m \u001b[1;33m=\u001b[0m \u001b[0mself\u001b[0m\u001b[1;33m.\u001b[0m\u001b[0mpage_iterator\u001b[0m\u001b[1;33m.\u001b[0m\u001b[0mnext\u001b[0m\u001b[1;33m(\u001b[0m\u001b[1;33m)\u001b[0m\u001b[1;33m\u001b[0m\u001b[0m\n\u001b[0m\u001b[0;32m    198\u001b[0m             \u001b[0mself\u001b[0m\u001b[1;33m.\u001b[0m\u001b[0mpage_index\u001b[0m \u001b[1;33m=\u001b[0m \u001b[1;33m-\u001b[0m\u001b[1;36m1\u001b[0m\u001b[1;33m\u001b[0m\u001b[0m\n\u001b[0;32m    199\u001b[0m         \u001b[0mself\u001b[0m\u001b[1;33m.\u001b[0m\u001b[0mpage_index\u001b[0m \u001b[1;33m+=\u001b[0m \u001b[1;36m1\u001b[0m\u001b[1;33m\u001b[0m\u001b[0m\n",
      "\u001b[1;32m~\\Anaconda3\\lib\\site-packages\\tweepy\\cursor.py\u001b[0m in \u001b[0;36mnext\u001b[1;34m(self)\u001b[0m\n\u001b[0;32m    106\u001b[0m \u001b[1;33m\u001b[0m\u001b[0m\n\u001b[0;32m    107\u001b[0m         \u001b[1;32mif\u001b[0m \u001b[0mself\u001b[0m\u001b[1;33m.\u001b[0m\u001b[0mindex\u001b[0m \u001b[1;33m>=\u001b[0m \u001b[0mlen\u001b[0m\u001b[1;33m(\u001b[0m\u001b[0mself\u001b[0m\u001b[1;33m.\u001b[0m\u001b[0mresults\u001b[0m\u001b[1;33m)\u001b[0m \u001b[1;33m-\u001b[0m \u001b[1;36m1\u001b[0m\u001b[1;33m:\u001b[0m\u001b[1;33m\u001b[0m\u001b[0m\n\u001b[1;32m--> 108\u001b[1;33m             \u001b[0mdata\u001b[0m \u001b[1;33m=\u001b[0m \u001b[0mself\u001b[0m\u001b[1;33m.\u001b[0m\u001b[0mmethod\u001b[0m\u001b[1;33m(\u001b[0m\u001b[0mmax_id\u001b[0m\u001b[1;33m=\u001b[0m\u001b[0mself\u001b[0m\u001b[1;33m.\u001b[0m\u001b[0mmax_id\u001b[0m\u001b[1;33m,\u001b[0m \u001b[0mparser\u001b[0m\u001b[1;33m=\u001b[0m\u001b[0mRawParser\u001b[0m\u001b[1;33m(\u001b[0m\u001b[1;33m)\u001b[0m\u001b[1;33m,\u001b[0m \u001b[1;33m*\u001b[0m\u001b[0mself\u001b[0m\u001b[1;33m.\u001b[0m\u001b[0margs\u001b[0m\u001b[1;33m,\u001b[0m \u001b[1;33m**\u001b[0m\u001b[0mself\u001b[0m\u001b[1;33m.\u001b[0m\u001b[0mkargs\u001b[0m\u001b[1;33m)\u001b[0m\u001b[1;33m\u001b[0m\u001b[0m\n\u001b[0m\u001b[0;32m    109\u001b[0m \u001b[1;33m\u001b[0m\u001b[0m\n\u001b[0;32m    110\u001b[0m             \u001b[1;32mif\u001b[0m \u001b[0mhasattr\u001b[0m\u001b[1;33m(\u001b[0m\u001b[0mself\u001b[0m\u001b[1;33m.\u001b[0m\u001b[0mmethod\u001b[0m\u001b[1;33m,\u001b[0m \u001b[1;34m'__self__'\u001b[0m\u001b[1;33m)\u001b[0m\u001b[1;33m:\u001b[0m\u001b[1;33m\u001b[0m\u001b[0m\n",
      "\u001b[1;32m~\\Anaconda3\\lib\\site-packages\\tweepy\\binder.py\u001b[0m in \u001b[0;36m_call\u001b[1;34m(*args, **kwargs)\u001b[0m\n\u001b[0;32m    248\u001b[0m             \u001b[1;32mreturn\u001b[0m \u001b[0mmethod\u001b[0m\u001b[1;33m\u001b[0m\u001b[0m\n\u001b[0;32m    249\u001b[0m         \u001b[1;32melse\u001b[0m\u001b[1;33m:\u001b[0m\u001b[1;33m\u001b[0m\u001b[0m\n\u001b[1;32m--> 250\u001b[1;33m             \u001b[1;32mreturn\u001b[0m \u001b[0mmethod\u001b[0m\u001b[1;33m.\u001b[0m\u001b[0mexecute\u001b[0m\u001b[1;33m(\u001b[0m\u001b[1;33m)\u001b[0m\u001b[1;33m\u001b[0m\u001b[0m\n\u001b[0m\u001b[0;32m    251\u001b[0m \u001b[1;33m\u001b[0m\u001b[0m\n\u001b[0;32m    252\u001b[0m     \u001b[1;31m# Set pagination mode\u001b[0m\u001b[1;33m\u001b[0m\u001b[1;33m\u001b[0m\u001b[0m\n",
      "\u001b[1;32m~\\Anaconda3\\lib\\site-packages\\tweepy\\binder.py\u001b[0m in \u001b[0;36mexecute\u001b[1;34m(self)\u001b[0m\n\u001b[0;32m    232\u001b[0m                     \u001b[1;32mraise\u001b[0m \u001b[0mRateLimitError\u001b[0m\u001b[1;33m(\u001b[0m\u001b[0merror_msg\u001b[0m\u001b[1;33m,\u001b[0m \u001b[0mresp\u001b[0m\u001b[1;33m)\u001b[0m\u001b[1;33m\u001b[0m\u001b[0m\n\u001b[0;32m    233\u001b[0m                 \u001b[1;32melse\u001b[0m\u001b[1;33m:\u001b[0m\u001b[1;33m\u001b[0m\u001b[0m\n\u001b[1;32m--> 234\u001b[1;33m                     \u001b[1;32mraise\u001b[0m \u001b[0mTweepError\u001b[0m\u001b[1;33m(\u001b[0m\u001b[0merror_msg\u001b[0m\u001b[1;33m,\u001b[0m \u001b[0mresp\u001b[0m\u001b[1;33m,\u001b[0m \u001b[0mapi_code\u001b[0m\u001b[1;33m=\u001b[0m\u001b[0mapi_error_code\u001b[0m\u001b[1;33m)\u001b[0m\u001b[1;33m\u001b[0m\u001b[0m\n\u001b[0m\u001b[0;32m    235\u001b[0m \u001b[1;33m\u001b[0m\u001b[0m\n\u001b[0;32m    236\u001b[0m             \u001b[1;31m# Parse the response payload\u001b[0m\u001b[1;33m\u001b[0m\u001b[1;33m\u001b[0m\u001b[0m\n",
      "\u001b[1;31mTweepError\u001b[0m: Twitter error response: status code = 429"
     ]
    }
   ],
   "source": [
    "\n",
    "# Mention the maximum number of tweets that you want to be extracted.\n",
    "\n",
    "maximum_number_of_tweets_to_be_extracted = int(input('Enter the number of tweets that you want to extract- '))\n",
    "\n",
    "hashtag = input('Enter the hashtag you want to scrape- ')\n",
    "\n",
    "for tweet in tweepy.Cursor(api.search, q='#' + hashtag,lang='fr',tweet_mode='extended',\n",
    "rpp=100).items(maximum_number_of_tweets_to_be_extracted):\n",
    "    with open('FR_tweets_with_hashtag_' + hashtag + '.txt', 'a',encoding='utf-8') as the_file:\n",
    "        if hasattr(tweet, 'retweeted_status'):\n",
    "            if None != tweet.retweeted_status:\n",
    "                the_file.write(str(tweet.retweeted_status.full_text).encode('utf-8').decode('utf-8') + '\\n')\n",
    "        else:\n",
    "            the_file.write(str(tweet.full_text).encode('utf-8').decode('utf-8') + '\\n')\n",
    "\n",
    "print ('Extracted ' + str(maximum_number_of_tweets_to_be_extracted)+ ' tweets with hashtag #' + hashtag)\n"
   ]
  },
  {
   "cell_type": "code",
   "execution_count": 94,
   "metadata": {},
   "outputs": [
    {
     "ename": "TweepError",
     "evalue": "Twitter error response: status code = 429",
     "output_type": "error",
     "traceback": [
      "\u001b[1;31m---------------------------------------------------------------------------\u001b[0m",
      "\u001b[1;31mTweepError\u001b[0m                                Traceback (most recent call last)",
      "\u001b[1;32m<ipython-input-94-f1105e3310c9>\u001b[0m in \u001b[0;36m<module>\u001b[1;34m()\u001b[0m\n\u001b[0;32m      7\u001b[0m             \u001b[0mtime\u001b[0m\u001b[1;33m.\u001b[0m\u001b[0msleep\u001b[0m\u001b[1;33m(\u001b[0m\u001b[1;36m15\u001b[0m \u001b[1;33m*\u001b[0m \u001b[1;36m60\u001b[0m\u001b[1;33m)\u001b[0m\u001b[1;33m\u001b[0m\u001b[0m\n\u001b[0;32m      8\u001b[0m \u001b[1;33m\u001b[0m\u001b[0m\n\u001b[1;32m----> 9\u001b[1;33m \u001b[1;32mfor\u001b[0m \u001b[0mtweet\u001b[0m \u001b[1;32min\u001b[0m \u001b[0mlimit_handled\u001b[0m\u001b[1;33m(\u001b[0m\u001b[0mtweepy\u001b[0m\u001b[1;33m.\u001b[0m\u001b[0mCursor\u001b[0m\u001b[1;33m(\u001b[0m\u001b[0mapi\u001b[0m\u001b[1;33m.\u001b[0m\u001b[0msearch\u001b[0m\u001b[1;33m,\u001b[0m \u001b[0mq\u001b[0m\u001b[1;33m=\u001b[0m\u001b[1;34m'#'\u001b[0m \u001b[1;33m+\u001b[0m \u001b[0mhashtag\u001b[0m\u001b[1;33m,\u001b[0m\u001b[0mlang\u001b[0m\u001b[1;33m=\u001b[0m\u001b[1;34m'fr'\u001b[0m\u001b[1;33m,\u001b[0m\u001b[0mtweet_mode\u001b[0m\u001b[1;33m=\u001b[0m\u001b[1;34m'extended'\u001b[0m\u001b[1;33m,\u001b[0m\u001b[0mrpp\u001b[0m\u001b[1;33m=\u001b[0m\u001b[1;36m100\u001b[0m\u001b[1;33m)\u001b[0m\u001b[1;33m.\u001b[0m\u001b[0mitems\u001b[0m\u001b[1;33m(\u001b[0m\u001b[1;33m)\u001b[0m\u001b[1;33m)\u001b[0m\u001b[1;33m:\u001b[0m\u001b[1;33m\u001b[0m\u001b[0m\n\u001b[0m\u001b[0;32m     10\u001b[0m     \u001b[1;32mwith\u001b[0m \u001b[0mopen\u001b[0m\u001b[1;33m(\u001b[0m\u001b[1;34m'FR_tweets_with_hashtag_'\u001b[0m \u001b[1;33m+\u001b[0m \u001b[0mhashtag\u001b[0m \u001b[1;33m+\u001b[0m \u001b[1;34m'.txt'\u001b[0m\u001b[1;33m,\u001b[0m \u001b[1;34m'a'\u001b[0m\u001b[1;33m,\u001b[0m\u001b[0mencoding\u001b[0m\u001b[1;33m=\u001b[0m\u001b[1;34m'utf-8'\u001b[0m\u001b[1;33m)\u001b[0m \u001b[1;32mas\u001b[0m \u001b[0mthe_file\u001b[0m\u001b[1;33m:\u001b[0m\u001b[1;33m\u001b[0m\u001b[0m\n\u001b[0;32m     11\u001b[0m         \u001b[1;32mif\u001b[0m \u001b[0mhasattr\u001b[0m\u001b[1;33m(\u001b[0m\u001b[0mtweet\u001b[0m\u001b[1;33m,\u001b[0m \u001b[1;34m'retweeted_status'\u001b[0m\u001b[1;33m)\u001b[0m\u001b[1;33m:\u001b[0m\u001b[1;33m\u001b[0m\u001b[0m\n",
      "\u001b[1;32m<ipython-input-94-f1105e3310c9>\u001b[0m in \u001b[0;36mlimit_handled\u001b[1;34m(cursor)\u001b[0m\n\u001b[0;32m      3\u001b[0m     \u001b[1;32mwhile\u001b[0m \u001b[1;32mTrue\u001b[0m\u001b[1;33m:\u001b[0m\u001b[1;33m\u001b[0m\u001b[0m\n\u001b[0;32m      4\u001b[0m         \u001b[1;32mtry\u001b[0m\u001b[1;33m:\u001b[0m\u001b[1;33m\u001b[0m\u001b[0m\n\u001b[1;32m----> 5\u001b[1;33m             \u001b[1;32myield\u001b[0m \u001b[0mcursor\u001b[0m\u001b[1;33m.\u001b[0m\u001b[0mnext\u001b[0m\u001b[1;33m(\u001b[0m\u001b[1;33m)\u001b[0m\u001b[1;33m\u001b[0m\u001b[0m\n\u001b[0m\u001b[0;32m      6\u001b[0m         \u001b[1;32mexcept\u001b[0m \u001b[0mtweepy\u001b[0m\u001b[1;33m.\u001b[0m\u001b[0mRateLimitError\u001b[0m\u001b[1;33m:\u001b[0m\u001b[1;33m\u001b[0m\u001b[0m\n\u001b[0;32m      7\u001b[0m             \u001b[0mtime\u001b[0m\u001b[1;33m.\u001b[0m\u001b[0msleep\u001b[0m\u001b[1;33m(\u001b[0m\u001b[1;36m15\u001b[0m \u001b[1;33m*\u001b[0m \u001b[1;36m60\u001b[0m\u001b[1;33m)\u001b[0m\u001b[1;33m\u001b[0m\u001b[0m\n",
      "\u001b[1;32m~\\Anaconda3\\lib\\site-packages\\tweepy\\cursor.py\u001b[0m in \u001b[0;36mnext\u001b[1;34m(self)\u001b[0m\n\u001b[0;32m    195\u001b[0m         \u001b[1;32mif\u001b[0m \u001b[0mself\u001b[0m\u001b[1;33m.\u001b[0m\u001b[0mcurrent_page\u001b[0m \u001b[1;32mis\u001b[0m \u001b[1;32mNone\u001b[0m \u001b[1;32mor\u001b[0m \u001b[0mself\u001b[0m\u001b[1;33m.\u001b[0m\u001b[0mpage_index\u001b[0m \u001b[1;33m==\u001b[0m \u001b[0mlen\u001b[0m\u001b[1;33m(\u001b[0m\u001b[0mself\u001b[0m\u001b[1;33m.\u001b[0m\u001b[0mcurrent_page\u001b[0m\u001b[1;33m)\u001b[0m \u001b[1;33m-\u001b[0m \u001b[1;36m1\u001b[0m\u001b[1;33m:\u001b[0m\u001b[1;33m\u001b[0m\u001b[0m\n\u001b[0;32m    196\u001b[0m             \u001b[1;31m# Reached end of current page, get the next page...\u001b[0m\u001b[1;33m\u001b[0m\u001b[1;33m\u001b[0m\u001b[0m\n\u001b[1;32m--> 197\u001b[1;33m             \u001b[0mself\u001b[0m\u001b[1;33m.\u001b[0m\u001b[0mcurrent_page\u001b[0m \u001b[1;33m=\u001b[0m \u001b[0mself\u001b[0m\u001b[1;33m.\u001b[0m\u001b[0mpage_iterator\u001b[0m\u001b[1;33m.\u001b[0m\u001b[0mnext\u001b[0m\u001b[1;33m(\u001b[0m\u001b[1;33m)\u001b[0m\u001b[1;33m\u001b[0m\u001b[0m\n\u001b[0m\u001b[0;32m    198\u001b[0m             \u001b[0mself\u001b[0m\u001b[1;33m.\u001b[0m\u001b[0mpage_index\u001b[0m \u001b[1;33m=\u001b[0m \u001b[1;33m-\u001b[0m\u001b[1;36m1\u001b[0m\u001b[1;33m\u001b[0m\u001b[0m\n\u001b[0;32m    199\u001b[0m         \u001b[0mself\u001b[0m\u001b[1;33m.\u001b[0m\u001b[0mpage_index\u001b[0m \u001b[1;33m+=\u001b[0m \u001b[1;36m1\u001b[0m\u001b[1;33m\u001b[0m\u001b[0m\n",
      "\u001b[1;32m~\\Anaconda3\\lib\\site-packages\\tweepy\\cursor.py\u001b[0m in \u001b[0;36mnext\u001b[1;34m(self)\u001b[0m\n\u001b[0;32m    106\u001b[0m \u001b[1;33m\u001b[0m\u001b[0m\n\u001b[0;32m    107\u001b[0m         \u001b[1;32mif\u001b[0m \u001b[0mself\u001b[0m\u001b[1;33m.\u001b[0m\u001b[0mindex\u001b[0m \u001b[1;33m>=\u001b[0m \u001b[0mlen\u001b[0m\u001b[1;33m(\u001b[0m\u001b[0mself\u001b[0m\u001b[1;33m.\u001b[0m\u001b[0mresults\u001b[0m\u001b[1;33m)\u001b[0m \u001b[1;33m-\u001b[0m \u001b[1;36m1\u001b[0m\u001b[1;33m:\u001b[0m\u001b[1;33m\u001b[0m\u001b[0m\n\u001b[1;32m--> 108\u001b[1;33m             \u001b[0mdata\u001b[0m \u001b[1;33m=\u001b[0m \u001b[0mself\u001b[0m\u001b[1;33m.\u001b[0m\u001b[0mmethod\u001b[0m\u001b[1;33m(\u001b[0m\u001b[0mmax_id\u001b[0m\u001b[1;33m=\u001b[0m\u001b[0mself\u001b[0m\u001b[1;33m.\u001b[0m\u001b[0mmax_id\u001b[0m\u001b[1;33m,\u001b[0m \u001b[0mparser\u001b[0m\u001b[1;33m=\u001b[0m\u001b[0mRawParser\u001b[0m\u001b[1;33m(\u001b[0m\u001b[1;33m)\u001b[0m\u001b[1;33m,\u001b[0m \u001b[1;33m*\u001b[0m\u001b[0mself\u001b[0m\u001b[1;33m.\u001b[0m\u001b[0margs\u001b[0m\u001b[1;33m,\u001b[0m \u001b[1;33m**\u001b[0m\u001b[0mself\u001b[0m\u001b[1;33m.\u001b[0m\u001b[0mkargs\u001b[0m\u001b[1;33m)\u001b[0m\u001b[1;33m\u001b[0m\u001b[0m\n\u001b[0m\u001b[0;32m    109\u001b[0m \u001b[1;33m\u001b[0m\u001b[0m\n\u001b[0;32m    110\u001b[0m             \u001b[1;32mif\u001b[0m \u001b[0mhasattr\u001b[0m\u001b[1;33m(\u001b[0m\u001b[0mself\u001b[0m\u001b[1;33m.\u001b[0m\u001b[0mmethod\u001b[0m\u001b[1;33m,\u001b[0m \u001b[1;34m'__self__'\u001b[0m\u001b[1;33m)\u001b[0m\u001b[1;33m:\u001b[0m\u001b[1;33m\u001b[0m\u001b[0m\n",
      "\u001b[1;32m~\\Anaconda3\\lib\\site-packages\\tweepy\\binder.py\u001b[0m in \u001b[0;36m_call\u001b[1;34m(*args, **kwargs)\u001b[0m\n\u001b[0;32m    248\u001b[0m             \u001b[1;32mreturn\u001b[0m \u001b[0mmethod\u001b[0m\u001b[1;33m\u001b[0m\u001b[0m\n\u001b[0;32m    249\u001b[0m         \u001b[1;32melse\u001b[0m\u001b[1;33m:\u001b[0m\u001b[1;33m\u001b[0m\u001b[0m\n\u001b[1;32m--> 250\u001b[1;33m             \u001b[1;32mreturn\u001b[0m \u001b[0mmethod\u001b[0m\u001b[1;33m.\u001b[0m\u001b[0mexecute\u001b[0m\u001b[1;33m(\u001b[0m\u001b[1;33m)\u001b[0m\u001b[1;33m\u001b[0m\u001b[0m\n\u001b[0m\u001b[0;32m    251\u001b[0m \u001b[1;33m\u001b[0m\u001b[0m\n\u001b[0;32m    252\u001b[0m     \u001b[1;31m# Set pagination mode\u001b[0m\u001b[1;33m\u001b[0m\u001b[1;33m\u001b[0m\u001b[0m\n",
      "\u001b[1;32m~\\Anaconda3\\lib\\site-packages\\tweepy\\binder.py\u001b[0m in \u001b[0;36mexecute\u001b[1;34m(self)\u001b[0m\n\u001b[0;32m    232\u001b[0m                     \u001b[1;32mraise\u001b[0m \u001b[0mRateLimitError\u001b[0m\u001b[1;33m(\u001b[0m\u001b[0merror_msg\u001b[0m\u001b[1;33m,\u001b[0m \u001b[0mresp\u001b[0m\u001b[1;33m)\u001b[0m\u001b[1;33m\u001b[0m\u001b[0m\n\u001b[0;32m    233\u001b[0m                 \u001b[1;32melse\u001b[0m\u001b[1;33m:\u001b[0m\u001b[1;33m\u001b[0m\u001b[0m\n\u001b[1;32m--> 234\u001b[1;33m                     \u001b[1;32mraise\u001b[0m \u001b[0mTweepError\u001b[0m\u001b[1;33m(\u001b[0m\u001b[0merror_msg\u001b[0m\u001b[1;33m,\u001b[0m \u001b[0mresp\u001b[0m\u001b[1;33m,\u001b[0m \u001b[0mapi_code\u001b[0m\u001b[1;33m=\u001b[0m\u001b[0mapi_error_code\u001b[0m\u001b[1;33m)\u001b[0m\u001b[1;33m\u001b[0m\u001b[0m\n\u001b[0m\u001b[0;32m    235\u001b[0m \u001b[1;33m\u001b[0m\u001b[0m\n\u001b[0;32m    236\u001b[0m             \u001b[1;31m# Parse the response payload\u001b[0m\u001b[1;33m\u001b[0m\u001b[1;33m\u001b[0m\u001b[0m\n",
      "\u001b[1;31mTweepError\u001b[0m: Twitter error response: status code = 429"
     ]
    }
   ],
   "source": [
    "hashtag = 'GiletsJaunes'\n",
    "def limit_handled(cursor):\n",
    "    while True:\n",
    "        try:\n",
    "            yield cursor.next()\n",
    "        except tweepy.RateLimitError:\n",
    "            time.sleep(15 * 60)\n",
    "\n",
    "for tweet in limit_handled(tweepy.Cursor(api.search, q='#' + hashtag,lang='fr',tweet_mode='extended',rpp=100).items()):\n",
    "    with open('FR_tweets_with_hashtag_' + hashtag + '.txt', 'a',encoding='utf-8') as the_file:\n",
    "        if hasattr(tweet, 'retweeted_status'):\n",
    "            if None != tweet.retweeted_status:\n",
    "                the_file.write(str(tweet.retweeted_status.full_text).encode('utf-8').decode('utf-8') + '\\n')\n",
    "        else:\n",
    "            the_file.write(str(tweet.full_text).encode('utf-8').decode('utf-8') + '\\n')\n",
    "\n",
    "print ('Extracted ' + str(maximum_number_of_tweets_to_be_extracted)+ ' tweets with hashtag #' + hashtag)"
   ]
  },
  {
   "cell_type": "code",
   "execution_count": 97,
   "metadata": {},
   "outputs": [
    {
     "ename": "RateLimitError",
     "evalue": "[{'message': 'Rate limit exceeded', 'code': 88}]",
     "output_type": "error",
     "traceback": [
      "\u001b[1;31m---------------------------------------------------------------------------\u001b[0m",
      "\u001b[1;31mRateLimitError\u001b[0m                            Traceback (most recent call last)",
      "\u001b[1;32m<ipython-input-97-34677271fb5f>\u001b[0m in \u001b[0;36m<module>\u001b[1;34m()\u001b[0m\n\u001b[0;32m     15\u001b[0m \u001b[1;33m\u001b[0m\u001b[0m\n\u001b[0;32m     16\u001b[0m     \u001b[1;31m#all subsiquent requests use the max_id param to prevent duplicates\u001b[0m\u001b[1;33m\u001b[0m\u001b[1;33m\u001b[0m\u001b[0m\n\u001b[1;32m---> 17\u001b[1;33m     \u001b[0mnew_tweets\u001b[0m \u001b[1;33m=\u001b[0m \u001b[0mapi\u001b[0m\u001b[1;33m.\u001b[0m\u001b[0msearch\u001b[0m\u001b[1;33m(\u001b[0m\u001b[0mq\u001b[0m\u001b[1;33m=\u001b[0m\u001b[1;34m'#GiletsJaunes'\u001b[0m\u001b[1;33m,\u001b[0m \u001b[0mlang\u001b[0m\u001b[1;33m=\u001b[0m\u001b[1;34m'fr'\u001b[0m\u001b[1;33m,\u001b[0m \u001b[0mcount\u001b[0m\u001b[1;33m=\u001b[0m\u001b[1;34m'50'\u001b[0m\u001b[1;33m,\u001b[0m \u001b[0mtweet_mode\u001b[0m\u001b[1;33m=\u001b[0m\u001b[1;34m'extended'\u001b[0m\u001b[1;33m)\u001b[0m\u001b[1;33m\u001b[0m\u001b[0m\n\u001b[0m\u001b[0;32m     18\u001b[0m \u001b[1;33m\u001b[0m\u001b[0m\n\u001b[0;32m     19\u001b[0m     \u001b[1;31m#save most recent tweets\u001b[0m\u001b[1;33m\u001b[0m\u001b[1;33m\u001b[0m\u001b[0m\n",
      "\u001b[1;32m~\\Anaconda3\\lib\\site-packages\\tweepy\\binder.py\u001b[0m in \u001b[0;36m_call\u001b[1;34m(*args, **kwargs)\u001b[0m\n\u001b[0;32m    248\u001b[0m             \u001b[1;32mreturn\u001b[0m \u001b[0mmethod\u001b[0m\u001b[1;33m\u001b[0m\u001b[0m\n\u001b[0;32m    249\u001b[0m         \u001b[1;32melse\u001b[0m\u001b[1;33m:\u001b[0m\u001b[1;33m\u001b[0m\u001b[0m\n\u001b[1;32m--> 250\u001b[1;33m             \u001b[1;32mreturn\u001b[0m \u001b[0mmethod\u001b[0m\u001b[1;33m.\u001b[0m\u001b[0mexecute\u001b[0m\u001b[1;33m(\u001b[0m\u001b[1;33m)\u001b[0m\u001b[1;33m\u001b[0m\u001b[0m\n\u001b[0m\u001b[0;32m    251\u001b[0m \u001b[1;33m\u001b[0m\u001b[0m\n\u001b[0;32m    252\u001b[0m     \u001b[1;31m# Set pagination mode\u001b[0m\u001b[1;33m\u001b[0m\u001b[1;33m\u001b[0m\u001b[0m\n",
      "\u001b[1;32m~\\Anaconda3\\lib\\site-packages\\tweepy\\binder.py\u001b[0m in \u001b[0;36mexecute\u001b[1;34m(self)\u001b[0m\n\u001b[0;32m    230\u001b[0m \u001b[1;33m\u001b[0m\u001b[0m\n\u001b[0;32m    231\u001b[0m                 \u001b[1;32mif\u001b[0m \u001b[0mis_rate_limit_error_message\u001b[0m\u001b[1;33m(\u001b[0m\u001b[0merror_msg\u001b[0m\u001b[1;33m)\u001b[0m\u001b[1;33m:\u001b[0m\u001b[1;33m\u001b[0m\u001b[0m\n\u001b[1;32m--> 232\u001b[1;33m                     \u001b[1;32mraise\u001b[0m \u001b[0mRateLimitError\u001b[0m\u001b[1;33m(\u001b[0m\u001b[0merror_msg\u001b[0m\u001b[1;33m,\u001b[0m \u001b[0mresp\u001b[0m\u001b[1;33m)\u001b[0m\u001b[1;33m\u001b[0m\u001b[0m\n\u001b[0m\u001b[0;32m    233\u001b[0m                 \u001b[1;32melse\u001b[0m\u001b[1;33m:\u001b[0m\u001b[1;33m\u001b[0m\u001b[0m\n\u001b[0;32m    234\u001b[0m                     \u001b[1;32mraise\u001b[0m \u001b[0mTweepError\u001b[0m\u001b[1;33m(\u001b[0m\u001b[0merror_msg\u001b[0m\u001b[1;33m,\u001b[0m \u001b[0mresp\u001b[0m\u001b[1;33m,\u001b[0m \u001b[0mapi_code\u001b[0m\u001b[1;33m=\u001b[0m\u001b[0mapi_error_code\u001b[0m\u001b[1;33m)\u001b[0m\u001b[1;33m\u001b[0m\u001b[0m\n",
      "\u001b[1;31mRateLimitError\u001b[0m: [{'message': 'Rate limit exceeded', 'code': 88}]"
     ]
    }
   ],
   "source": [
    "#initialize a list to hold all the tweepy Tweets\n",
    "alltweets = []\n",
    "\n",
    "#make initial request for most recent tweets (200 is the maximum allowed count)\n",
    "new_tweets = api.search(q='#GiletsJaunes', lang='fr', count='50', tweet_mode='extended')\n",
    "\n",
    "#save most recent tweets\n",
    "alltweets.extend(new_tweets)\n",
    "\n",
    "#save the id of the oldest tweet less one\n",
    "oldest = alltweets[-1].id - 1\n",
    "\n",
    "#keep grabbing tweets until there are no tweets left to grab\n",
    "while len(new_tweets) > 0:\n",
    "\n",
    "    #all subsiquent requests use the max_id param to prevent duplicates\n",
    "    new_tweets = api.search(q='#GiletsJaunes', lang='fr', count='50', tweet_mode='extended')\n",
    "\n",
    "    #save most recent tweets\n",
    "    alltweets.extend(new_tweets)\n",
    "\n",
    "    #update the id of the oldest tweet less one\n",
    "    oldest = alltweets[-1].id - 1\n",
    "\n",
    "\n",
    "#transform the tweepy tweets into a 2D array that will populate the csv\n",
    "outtweets = [[tweet.id_str, tweet.created_at, tweet.text.encode(\"utf-8\")] for tweet in alltweets]\n",
    "\n",
    "#write the csv\n",
    "with open('%s_nyttweet2.csv' % screen_name, 'wb') as f:\n",
    "        writer = csv.writer(f)\n",
    "        writer.writerow([\"tweetid\",\"date\",\"text\"])\n",
    "        writer.writerows(outtweets)"
   ]
  },
  {
   "cell_type": "code",
   "execution_count": null,
   "metadata": {},
   "outputs": [],
   "source": []
  }
 ],
 "metadata": {
  "kernelspec": {
   "display_name": "Python 3",
   "language": "python",
   "name": "python3"
  },
  "language_info": {
   "codemirror_mode": {
    "name": "ipython",
    "version": 3
   },
   "file_extension": ".py",
   "mimetype": "text/x-python",
   "name": "python",
   "nbconvert_exporter": "python",
   "pygments_lexer": "ipython3",
   "version": "3.7.0"
  }
 },
 "nbformat": 4,
 "nbformat_minor": 2
}
