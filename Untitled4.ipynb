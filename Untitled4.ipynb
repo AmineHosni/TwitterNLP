{
 "cells": [
  {
   "cell_type": "code",
   "execution_count": 1,
   "metadata": {
    "scrolled": true
   },
   "outputs": [
    {
     "data": {
      "text/html": [
       "<div>\n",
       "<style scoped>\n",
       "    .dataframe tbody tr th:only-of-type {\n",
       "        vertical-align: middle;\n",
       "    }\n",
       "\n",
       "    .dataframe tbody tr th {\n",
       "        vertical-align: top;\n",
       "    }\n",
       "\n",
       "    .dataframe thead th {\n",
       "        text-align: right;\n",
       "    }\n",
       "</style>\n",
       "<table border=\"1\" class=\"dataframe\">\n",
       "  <thead>\n",
       "    <tr style=\"text-align: right;\">\n",
       "      <th></th>\n",
       "      <th>hashtags</th>\n",
       "      <th>text</th>\n",
       "      <th>user</th>\n",
       "      <th>location</th>\n",
       "    </tr>\n",
       "  </thead>\n",
       "  <tbody>\n",
       "    <tr>\n",
       "      <th>0</th>\n",
       "      <td>['GiletsJaunes']</td>\n",
       "      <td>RT @RachidaElAzzz: En bas de @mediapart, ce so...</td>\n",
       "      <td>catael</td>\n",
       "      <td>France</td>\n",
       "    </tr>\n",
       "    <tr>\n",
       "      <th>1</th>\n",
       "      <td>['JusticeSociale']</td>\n",
       "      <td>RT @attac_fr: Attac est présent dans la manife...</td>\n",
       "      <td>Figuette44</td>\n",
       "      <td>Nantes</td>\n",
       "    </tr>\n",
       "    <tr>\n",
       "      <th>2</th>\n",
       "      <td>['giletsjaunes', 'Amazon']</td>\n",
       "      <td>RT @emmanuelmaurel: Cette décision ignoble ne ...</td>\n",
       "      <td>LuranData</td>\n",
       "      <td>Sardieu, Dauphiné</td>\n",
       "    </tr>\n",
       "    <tr>\n",
       "      <th>3</th>\n",
       "      <td>['LoiAnticasseurs']</td>\n",
       "      <td>@SoMabrouk @CNEWS - Elle va être belle la #Loi...</td>\n",
       "      <td>JulienKemper</td>\n",
       "      <td>Quimper, France</td>\n",
       "    </tr>\n",
       "    <tr>\n",
       "      <th>4</th>\n",
       "      <td>['GreveGenerale5fevrier', 'GreveGenerale', 'Gi...</td>\n",
       "      <td>RT @ChalecosAmarill: MAXIMA DIFUSION\\r\\nPARIS ...</td>\n",
       "      <td>cyberbull51</td>\n",
       "      <td>MEXICO</td>\n",
       "    </tr>\n",
       "  </tbody>\n",
       "</table>\n",
       "</div>"
      ],
      "text/plain": [
       "                                            hashtags  \\\n",
       "0                                   ['GiletsJaunes']   \n",
       "1                                 ['JusticeSociale']   \n",
       "2                         ['giletsjaunes', 'Amazon']   \n",
       "3                                ['LoiAnticasseurs']   \n",
       "4  ['GreveGenerale5fevrier', 'GreveGenerale', 'Gi...   \n",
       "\n",
       "                                                text          user  \\\n",
       "0  RT @RachidaElAzzz: En bas de @mediapart, ce so...        catael   \n",
       "1  RT @attac_fr: Attac est présent dans la manife...    Figuette44   \n",
       "2  RT @emmanuelmaurel: Cette décision ignoble ne ...     LuranData   \n",
       "3  @SoMabrouk @CNEWS - Elle va être belle la #Loi...  JulienKemper   \n",
       "4  RT @ChalecosAmarill: MAXIMA DIFUSION\\r\\nPARIS ...   cyberbull51   \n",
       "\n",
       "            location  \n",
       "0             France  \n",
       "1             Nantes  \n",
       "2  Sardieu, Dauphiné  \n",
       "3    Quimper, France  \n",
       "4             MEXICO  "
      ]
     },
     "execution_count": 1,
     "metadata": {},
     "output_type": "execute_result"
    }
   ],
   "source": [
    "import pandas as pd  \n",
    "tweets = pd.read_csv(\"saved_tweets.csv\",names = [\"hashtags\", \"text\", \"user\", \"location\"])  \n",
    "tweets.head() "
   ]
  },
  {
   "cell_type": "code",
   "execution_count": 2,
   "metadata": {},
   "outputs": [
    {
     "name": "stdout",
     "output_type": "stream",
     "text": [
      "<class 'pandas.core.frame.DataFrame'>\n",
      "RangeIndex: 3641 entries, 0 to 3640\n",
      "Data columns (total 4 columns):\n",
      "hashtags    3641 non-null object\n",
      "text        3641 non-null object\n",
      "user        3641 non-null object\n",
      "location    2114 non-null object\n",
      "dtypes: object(4)\n",
      "memory usage: 113.9+ KB\n"
     ]
    }
   ],
   "source": [
    "tweets.info()"
   ]
  },
  {
   "cell_type": "code",
   "execution_count": 3,
   "metadata": {},
   "outputs": [
    {
     "data": {
      "text/html": [
       "<div>\n",
       "<style scoped>\n",
       "    .dataframe tbody tr th:only-of-type {\n",
       "        vertical-align: middle;\n",
       "    }\n",
       "\n",
       "    .dataframe tbody tr th {\n",
       "        vertical-align: top;\n",
       "    }\n",
       "\n",
       "    .dataframe thead th {\n",
       "        text-align: right;\n",
       "    }\n",
       "</style>\n",
       "<table border=\"1\" class=\"dataframe\">\n",
       "  <thead>\n",
       "    <tr style=\"text-align: right;\">\n",
       "      <th></th>\n",
       "      <th>hashtags</th>\n",
       "      <th>text</th>\n",
       "      <th>user</th>\n",
       "      <th>location</th>\n",
       "    </tr>\n",
       "  </thead>\n",
       "  <tbody>\n",
       "    <tr>\n",
       "      <th>count</th>\n",
       "      <td>3641</td>\n",
       "      <td>3641</td>\n",
       "      <td>3641</td>\n",
       "      <td>2114</td>\n",
       "    </tr>\n",
       "    <tr>\n",
       "      <th>unique</th>\n",
       "      <td>487</td>\n",
       "      <td>1307</td>\n",
       "      <td>2187</td>\n",
       "      <td>812</td>\n",
       "    </tr>\n",
       "    <tr>\n",
       "      <th>top</th>\n",
       "      <td>[]</td>\n",
       "      <td>RT @ChalecosAmarill: MAXIMA DIFUSION\\r\\nPARIS ...</td>\n",
       "      <td>DuPouvoirDachat</td>\n",
       "      <td>France</td>\n",
       "    </tr>\n",
       "    <tr>\n",
       "      <th>freq</th>\n",
       "      <td>983</td>\n",
       "      <td>146</td>\n",
       "      <td>45</td>\n",
       "      <td>274</td>\n",
       "    </tr>\n",
       "  </tbody>\n",
       "</table>\n",
       "</div>"
      ],
      "text/plain": [
       "       hashtags                                               text  \\\n",
       "count      3641                                               3641   \n",
       "unique      487                                               1307   \n",
       "top          []  RT @ChalecosAmarill: MAXIMA DIFUSION\\r\\nPARIS ...   \n",
       "freq        983                                                146   \n",
       "\n",
       "                   user location  \n",
       "count              3641     2114  \n",
       "unique             2187      812  \n",
       "top     DuPouvoirDachat   France  \n",
       "freq                 45      274  "
      ]
     },
     "execution_count": 3,
     "metadata": {},
     "output_type": "execute_result"
    }
   ],
   "source": [
    "tweets.describe()"
   ]
  },
  {
   "cell_type": "code",
   "execution_count": 19,
   "metadata": {},
   "outputs": [
    {
     "name": "stdout",
     "output_type": "stream",
     "text": [
      "<class 'pandas.core.frame.DataFrame'>\n",
      "Int64Index: 2334 entries, 15 to 3640\n",
      "Data columns (total 4 columns):\n",
      "hashtags    2334 non-null object\n",
      "text        2334 non-null object\n",
      "user        2334 non-null object\n",
      "location    1353 non-null object\n",
      "dtypes: object(4)\n",
      "memory usage: 91.2+ KB\n"
     ]
    }
   ],
   "source": [
    "tweets[tweets.duplicated(subset=['text'], keep='first')].info()"
   ]
  },
  {
   "cell_type": "code",
   "execution_count": 24,
   "metadata": {},
   "outputs": [],
   "source": [
    "unique_text_tweets = tweets.drop_duplicates(subset=['text'])"
   ]
  },
  {
   "cell_type": "code",
   "execution_count": 28,
   "metadata": {},
   "outputs": [
    {
     "data": {
      "text/plain": [
       "DuPouvoirDachat    42\n",
       "jmverani           37\n",
       "cykriltube         16\n",
       "OnZeLeft           11\n",
       "CarsonMacCuller    10\n",
       "Name: user, dtype: int64"
      ]
     },
     "execution_count": 28,
     "metadata": {},
     "output_type": "execute_result"
    }
   ],
   "source": [
    "unique_text_tweets.user.value_counts().head()"
   ]
  },
  {
   "cell_type": "code",
   "execution_count": 32,
   "metadata": {},
   "outputs": [],
   "source": [
    "tweets = tweets.apply(lambda x: x.astype(str).str.lower())"
   ]
  },
  {
   "cell_type": "code",
   "execution_count": 35,
   "metadata": {},
   "outputs": [
    {
     "data": {
      "text/plain": [
       "nan                      1527\n",
       "france                    317\n",
       "paris, france             106\n",
       "paris                      71\n",
       "ile-de-france, france      38\n",
       "bouches-du-rhône (13)      37\n",
       "occitanie                  25\n",
       "nice, france               22\n",
       "paris, ile-de-france       22\n",
       "rhône, rhône-alpes         21\n",
       "Name: location, dtype: int64"
      ]
     },
     "execution_count": 35,
     "metadata": {},
     "output_type": "execute_result"
    }
   ],
   "source": [
    "tweets.location.value_counts().head(10)"
   ]
  },
  {
   "cell_type": "code",
   "execution_count": 36,
   "metadata": {},
   "outputs": [],
   "source": [
    "tweets = tweets.drop_duplicates(subset=['text'])"
   ]
  },
  {
   "cell_type": "code",
   "execution_count": 38,
   "metadata": {},
   "outputs": [
    {
     "data": {
      "text/plain": [
       "nan                      546\n",
       "france                   109\n",
       "paris, france             40\n",
       "paris                     38\n",
       "bouches-du-rhône (13)     37\n",
       "nice, france              16\n",
       "ile-de-france, france     11\n",
       "lille                      9\n",
       "paris, ile-de-france       9\n",
       "portugal                   6\n",
       "Name: location, dtype: int64"
      ]
     },
     "execution_count": 38,
     "metadata": {},
     "output_type": "execute_result"
    }
   ],
   "source": [
    "tweets.location.value_counts().head(10)"
   ]
  },
  {
   "cell_type": "code",
   "execution_count": null,
   "metadata": {},
   "outputs": [],
   "source": []
  }
 ],
 "metadata": {
  "kernelspec": {
   "display_name": "Python 3",
   "language": "python",
   "name": "python3"
  },
  "language_info": {
   "codemirror_mode": {
    "name": "ipython",
    "version": 3
   },
   "file_extension": ".py",
   "mimetype": "text/x-python",
   "name": "python",
   "nbconvert_exporter": "python",
   "pygments_lexer": "ipython3",
   "version": "3.7.0"
  }
 },
 "nbformat": 4,
 "nbformat_minor": 2
}
