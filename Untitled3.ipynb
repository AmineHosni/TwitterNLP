{
 "cells": [
  {
   "cell_type": "code",
   "execution_count": 1,
   "metadata": {},
   "outputs": [
    {
     "data": {
      "text/html": [
       "<div>\n",
       "<style scoped>\n",
       "    .dataframe tbody tr th:only-of-type {\n",
       "        vertical-align: middle;\n",
       "    }\n",
       "\n",
       "    .dataframe tbody tr th {\n",
       "        vertical-align: top;\n",
       "    }\n",
       "\n",
       "    .dataframe thead th {\n",
       "        text-align: right;\n",
       "    }\n",
       "</style>\n",
       "<table border=\"1\" class=\"dataframe\">\n",
       "  <thead>\n",
       "    <tr style=\"text-align: right;\">\n",
       "      <th></th>\n",
       "      <th>hashtags</th>\n",
       "      <th>text</th>\n",
       "      <th>user</th>\n",
       "      <th>location</th>\n",
       "    </tr>\n",
       "  </thead>\n",
       "  <tbody>\n",
       "    <tr>\n",
       "      <th>0</th>\n",
       "      <td>['GiletsJaunes']</td>\n",
       "      <td>RT @RachidaElAzzz: En bas de @mediapart, ce so...</td>\n",
       "      <td>catael</td>\n",
       "      <td>France</td>\n",
       "    </tr>\n",
       "    <tr>\n",
       "      <th>1</th>\n",
       "      <td>['JusticeSociale']</td>\n",
       "      <td>RT @attac_fr: Attac est présent dans la manife...</td>\n",
       "      <td>Figuette44</td>\n",
       "      <td>Nantes</td>\n",
       "    </tr>\n",
       "    <tr>\n",
       "      <th>2</th>\n",
       "      <td>['giletsjaunes', 'Amazon']</td>\n",
       "      <td>RT @emmanuelmaurel: Cette décision ignoble ne ...</td>\n",
       "      <td>LuranData</td>\n",
       "      <td>Sardieu, Dauphiné</td>\n",
       "    </tr>\n",
       "    <tr>\n",
       "      <th>3</th>\n",
       "      <td>['LoiAnticasseurs']</td>\n",
       "      <td>@SoMabrouk @CNEWS - Elle va être belle la #Loi...</td>\n",
       "      <td>JulienKemper</td>\n",
       "      <td>Quimper, France</td>\n",
       "    </tr>\n",
       "    <tr>\n",
       "      <th>4</th>\n",
       "      <td>['GreveGenerale5fevrier', 'GreveGenerale', 'Gi...</td>\n",
       "      <td>RT @ChalecosAmarill: MAXIMA DIFUSION\\r\\nPARIS ...</td>\n",
       "      <td>cyberbull51</td>\n",
       "      <td>MEXICO</td>\n",
       "    </tr>\n",
       "  </tbody>\n",
       "</table>\n",
       "</div>"
      ],
      "text/plain": [
       "                                            hashtags  \\\n",
       "0                                   ['GiletsJaunes']   \n",
       "1                                 ['JusticeSociale']   \n",
       "2                         ['giletsjaunes', 'Amazon']   \n",
       "3                                ['LoiAnticasseurs']   \n",
       "4  ['GreveGenerale5fevrier', 'GreveGenerale', 'Gi...   \n",
       "\n",
       "                                                text          user  \\\n",
       "0  RT @RachidaElAzzz: En bas de @mediapart, ce so...        catael   \n",
       "1  RT @attac_fr: Attac est présent dans la manife...    Figuette44   \n",
       "2  RT @emmanuelmaurel: Cette décision ignoble ne ...     LuranData   \n",
       "3  @SoMabrouk @CNEWS - Elle va être belle la #Loi...  JulienKemper   \n",
       "4  RT @ChalecosAmarill: MAXIMA DIFUSION\\r\\nPARIS ...   cyberbull51   \n",
       "\n",
       "            location  \n",
       "0             France  \n",
       "1             Nantes  \n",
       "2  Sardieu, Dauphiné  \n",
       "3    Quimper, France  \n",
       "4             MEXICO  "
      ]
     },
     "execution_count": 1,
     "metadata": {},
     "output_type": "execute_result"
    }
   ],
   "source": [
    "import pandas as pd  \n",
    "tweets = pd.read_csv(\"saved_tweets.csv\",names = [\"hashtags\", \"text\", \"user\", \"location\"])  \n",
    "tweets.head() "
   ]
  },
  {
   "cell_type": "code",
   "execution_count": 2,
   "metadata": {},
   "outputs": [
    {
     "data": {
      "text/plain": [
       "[('giletsjaunes', 1837),\n",
       " ('grevegenerale5fevrier', 334),\n",
       " ('macron', 225),\n",
       " ('grevegenerale', 203),\n",
       " ('cgt', 129),\n",
       " ('lbd40', 128),\n",
       " ('paris', 122),\n",
       " ('strasbourg', 88),\n",
       " ('lr', 87),\n",
       " ('mediapart', 80),\n",
       " ('loianticasseurs', 78),\n",
       " ('acte12', 66),\n",
       " ('benalla', 54),\n",
       " ('lyon', 50),\n",
       " ('acte13', 49),\n",
       " ('giletjaune', 49),\n",
       " ('actexii', 46),\n",
       " ('actexiii', 39),\n",
       " ('assembleenationale', 39),\n",
       " ('loianticasseur', 37)]"
      ]
     },
     "execution_count": 2,
     "metadata": {},
     "output_type": "execute_result"
    }
   ],
   "source": [
    "from collections import Counter  \n",
    "import ast\n",
    "\n",
    "# Extract hashtags and put them in a list\n",
    "list_hashtag_strings = [entry for entry in tweets.hashtags]  \n",
    "list_hashtag_lists = ast.literal_eval(','.join(list_hashtag_strings))  \n",
    "hashtag_list = [ht.lower() for list_ in list_hashtag_lists for ht in list_]\n",
    "\n",
    "# Count most common hashtags\n",
    "counter_hashtags = Counter(hashtag_list)  \n",
    "counter_hashtags.most_common(20)  "
   ]
  },
  {
   "cell_type": "code",
   "execution_count": 4,
   "metadata": {},
   "outputs": [
    {
     "name": "stdout",
     "output_type": "stream",
     "text": [
      "<class 'pandas.core.frame.DataFrame'>\n",
      "RangeIndex: 3641 entries, 0 to 3640\n",
      "Data columns (total 4 columns):\n",
      "hashtags    3641 non-null object\n",
      "text        3641 non-null object\n",
      "user        3641 non-null object\n",
      "location    2114 non-null object\n",
      "dtypes: object(4)\n",
      "memory usage: 113.9+ KB\n"
     ]
    }
   ],
   "source": [
    "tweets.info()"
   ]
  },
  {
   "cell_type": "code",
   "execution_count": 13,
   "metadata": {},
   "outputs": [
    {
     "data": {
      "text/plain": [
       "France                   274\n",
       "Paris, France            106\n",
       "Paris                     56\n",
       "Ile-de-France, France     38\n",
       "Bouches-du-Rhône (13)     37\n",
       "france                    31\n",
       "occitanie                 25\n",
       "Paris, Ile-de-France      22\n",
       "Nice, France              22\n",
       "Rhône, Rhône-Alpes        21\n",
       "Name: location, dtype: int64"
      ]
     },
     "execution_count": 13,
     "metadata": {},
     "output_type": "execute_result"
    }
   ],
   "source": [
    "tweets['location'].value_counts().head(10)"
   ]
  },
  {
   "cell_type": "code",
   "execution_count": 15,
   "metadata": {},
   "outputs": [],
   "source": [
    "processed_tweets = tweets.copy()"
   ]
  },
  {
   "cell_type": "code",
   "execution_count": 17,
   "metadata": {},
   "outputs": [
    {
     "data": {
      "text/html": [
       "<div>\n",
       "<style scoped>\n",
       "    .dataframe tbody tr th:only-of-type {\n",
       "        vertical-align: middle;\n",
       "    }\n",
       "\n",
       "    .dataframe tbody tr th {\n",
       "        vertical-align: top;\n",
       "    }\n",
       "\n",
       "    .dataframe thead th {\n",
       "        text-align: right;\n",
       "    }\n",
       "</style>\n",
       "<table border=\"1\" class=\"dataframe\">\n",
       "  <thead>\n",
       "    <tr style=\"text-align: right;\">\n",
       "      <th></th>\n",
       "      <th>hashtags</th>\n",
       "      <th>text</th>\n",
       "      <th>user</th>\n",
       "      <th>location</th>\n",
       "    </tr>\n",
       "  </thead>\n",
       "  <tbody>\n",
       "    <tr>\n",
       "      <th>count</th>\n",
       "      <td>3641</td>\n",
       "      <td>3641</td>\n",
       "      <td>3641</td>\n",
       "      <td>2114</td>\n",
       "    </tr>\n",
       "    <tr>\n",
       "      <th>unique</th>\n",
       "      <td>487</td>\n",
       "      <td>1307</td>\n",
       "      <td>2187</td>\n",
       "      <td>812</td>\n",
       "    </tr>\n",
       "    <tr>\n",
       "      <th>top</th>\n",
       "      <td>[]</td>\n",
       "      <td>RT @ChalecosAmarill: MAXIMA DIFUSION\\r\\nPARIS ...</td>\n",
       "      <td>DuPouvoirDachat</td>\n",
       "      <td>France</td>\n",
       "    </tr>\n",
       "    <tr>\n",
       "      <th>freq</th>\n",
       "      <td>983</td>\n",
       "      <td>146</td>\n",
       "      <td>45</td>\n",
       "      <td>274</td>\n",
       "    </tr>\n",
       "  </tbody>\n",
       "</table>\n",
       "</div>"
      ],
      "text/plain": [
       "       hashtags                                               text  \\\n",
       "count      3641                                               3641   \n",
       "unique      487                                               1307   \n",
       "top          []  RT @ChalecosAmarill: MAXIMA DIFUSION\\r\\nPARIS ...   \n",
       "freq        983                                                146   \n",
       "\n",
       "                   user location  \n",
       "count              3641     2114  \n",
       "unique             2187      812  \n",
       "top     DuPouvoirDachat   France  \n",
       "freq                 45      274  "
      ]
     },
     "execution_count": 17,
     "metadata": {},
     "output_type": "execute_result"
    }
   ],
   "source": [
    "processed_tweets.describe()"
   ]
  },
  {
   "cell_type": "code",
   "execution_count": 18,
   "metadata": {},
   "outputs": [
    {
     "name": "stderr",
     "output_type": "stream",
     "text": [
      "C:\\Users\\AmineHosni\\Anaconda3\\lib\\site-packages\\ipykernel_launcher.py:4: DeprecationWarning: Using Nominatim with the default \"geopy/1.18.1\" `user_agent` is strongly discouraged, as it violates Nominatim's ToS https://operations.osmfoundation.org/policies/nominatim/ and may possibly cause 403 and 429 HTTP errors. Please specify a custom `user_agent` with `Nominatim(user_agent=\"my-application\")` or by overriding the default `user_agent`: `geopy.geocoders.options.default_user_agent = \"my-application\"`. In geopy 2.0 this will become an exception.\n",
      "  after removing the cwd from sys.path.\n"
     ]
    }
   ],
   "source": [
    "from geopy.geocoders import Nominatim  \n",
    "import gmplot\n",
    "\n",
    "geolocator = Nominatim()\n",
    "\n",
    "# Go through all tweets and add locations to 'coordinates' dictionary\n",
    "coordinates = {'latitude': [], 'longitude': []}  \n",
    "for count, user_loc in enumerate(tweets.location):  \n",
    "    try:\n",
    "        location = geolocator.geocode(user_loc)\n",
    "\n",
    "        # If coordinates are found for location\n",
    "        if location:\n",
    "            coordinates['latitude'].append(location.latitude)\n",
    "            coordinates['longitude'].append(location.longitude)\n",
    "\n",
    "    # If too many connection requests\n",
    "    except:\n",
    "        pass\n",
    "\n",
    "# Instantiate and center a GoogleMapPlotter object to show our map\n",
    "gmap = gmplot.GoogleMapPlotter(30, 0, 3)\n",
    "\n",
    "# Insert points on the map passing a list of latitudes and longitudes\n",
    "gmap.heatmap(coordinates['latitude'], coordinates['longitude'], radius=20)\n",
    "\n",
    "# Save the map to html file\n",
    "gmap.draw(\"python_heatmap.html\")  "
   ]
  },
  {
   "cell_type": "code",
   "execution_count": null,
   "metadata": {},
   "outputs": [],
   "source": []
  }
 ],
 "metadata": {
  "kernelspec": {
   "display_name": "Python 3",
   "language": "python",
   "name": "python3"
  },
  "language_info": {
   "codemirror_mode": {
    "name": "ipython",
    "version": 3
   },
   "file_extension": ".py",
   "mimetype": "text/x-python",
   "name": "python",
   "nbconvert_exporter": "python",
   "pygments_lexer": "ipython3",
   "version": "3.7.0"
  }
 },
 "nbformat": 4,
 "nbformat_minor": 2
}
